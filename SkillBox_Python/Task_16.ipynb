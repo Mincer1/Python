{
 "cells": [
  {
   "cell_type": "code",
   "execution_count": 8,
   "id": "22923a4c",
   "metadata": {},
   "outputs": [],
   "source": [
    "import random"
   ]
  },
  {
   "cell_type": "markdown",
   "id": "7ca692c8",
   "metadata": {},
   "source": [
    "1.1"
   ]
  },
  {
   "cell_type": "code",
   "execution_count": null,
   "id": "a5554ced",
   "metadata": {},
   "outputs": [],
   "source": [
    "a = int(input(\"Введите число а: \"))\n",
    "b = int(input(\"Введите число b: \"))\n",
    "\n",
    "print(f\"Левая граница: {a}\\nПравая граница: {b}\\n\"\n",
    "    f\"Список кубов чисел в диапазоне от {a} до {b}: {[num ** 3 for num in range(a, b + 1)]}\\n\"\n",
    "    f\"Список квадратов чисел в диапазоне от {a} до {b}: {[num ** 2 for num in range(a, b + 1)]}\")\n"
   ]
  },
  {
   "cell_type": "markdown",
   "id": "4bb1a727",
   "metadata": {},
   "source": [
    "1.2"
   ]
  },
  {
   "cell_type": "code",
   "execution_count": null,
   "id": "ba6f5fa4",
   "metadata": {},
   "outputs": [],
   "source": [
    "words = input(\"Введите строку: \")\n",
    "symbol = input(\"Введите дополнительный символ: \")\n",
    "\n",
    "print(f\"Список удвоенных символов: {[word * 2 for word in words]}\")\n",
    "print(f\"Список удвоенных символов: {[word * 2 + symbol for word in words]}\")"
   ]
  },
  {
   "cell_type": "markdown",
   "id": "6297ebac",
   "metadata": {},
   "source": [
    "1.3"
   ]
  },
  {
   "cell_type": "code",
   "execution_count": null,
   "id": "94a4e17a",
   "metadata": {},
   "outputs": [
    {
     "name": "stdout",
     "output_type": "stream",
     "text": [
      "Сумма цен за каждый год: 70.88000000000001, 79.39, 88.12\n"
     ]
    }
   ],
   "source": [
    "def increase(price, percent): return price * (percent / 100 + 1)\n",
    "    \n",
    "\n",
    "price_product = [float(input(f\"цена на {_ + 1} товар\")) for _ in range(3)]\n",
    "\n",
    "first_increase_price = int(input(\"Повышение на первый год: \"))\n",
    "second_increase_price = int(input(\"Повышение на второй год: \"))\n",
    "\n",
    "first_price_product = [increase(price, first_increase_price) for price in price_product]\n",
    "second_price_product = [increase(price, second_increase_price) for price in first_price_product]\n",
    "\n",
    "print(f\"Сумма цен за каждый год: {round(sum(price_product),2)}, {round(sum(first_price_product),2)}, {round(sum(second_price_product),2)}\")\n"
   ]
  },
  {
   "cell_type": "markdown",
   "id": "5f4a38ac",
   "metadata": {},
   "source": [
    "2.1\n"
   ]
  },
  {
   "cell_type": "code",
   "execution_count": 3,
   "id": "bc6a1df8",
   "metadata": {},
   "outputs": [
    {
     "data": {
      "text/plain": [
       "[4, 6, 8, 10, 12]"
      ]
     },
     "execution_count": 3,
     "metadata": {},
     "output_type": "execute_result"
    }
   ],
   "source": [
    "a = 3\n",
    "b = 12\n",
    "even_numbers = [num for num in range(a, b +1) if num % 2 == 0]\n",
    "even_numbers"
   ]
  },
  {
   "cell_type": "markdown",
   "id": "9bd0623e",
   "metadata": {},
   "source": [
    "2.2"
   ]
  },
  {
   "cell_type": "code",
   "execution_count": 7,
   "id": "7ed6260d",
   "metadata": {},
   "outputs": [
    {
     "data": {
      "text/plain": [
       "[1.25, 0, 10.22, 3.78, 0, 1.16]"
      ]
     },
     "execution_count": 7,
     "metadata": {},
     "output_type": "execute_result"
    }
   ],
   "source": [
    "original_prices = [1.25, -9.45, 10.22, 3.78, -5.92, 1.16]\n",
    "new_price = [(price if price > 0 else 0) for price in original_prices]\n",
    "new_price"
   ]
  },
  {
   "cell_type": "markdown",
   "id": "1d2155c1",
   "metadata": {},
   "source": [
    "2.3"
   ]
  },
  {
   "cell_type": "code",
   "execution_count": 14,
   "id": "933e7acd",
   "metadata": {},
   "outputs": [
    {
     "name": "stdout",
     "output_type": "stream",
     "text": [
      "['погиб', 'Выжил', 'погиб', 'погиб', 'Выжил', 'погиб', 'погиб', 'погиб', 'погиб', 'Выжил']"
     ]
    }
   ],
   "source": [
    "squad_1 = [random.randrange(50,80) for _ in range(10)]\n",
    "squad_2 = [random.randrange(30,60) for _ in range(10)]\n",
    "squad_3 = [\"погиб\" if squad_1[i] + squad_2[i] > 100 else \"Выжил\" for i in range(10)]\n",
    "print(squad_3, end = \"\")"
   ]
  },
  {
   "cell_type": "markdown",
   "id": "507567ba",
   "metadata": {},
   "source": [
    "3.1"
   ]
  },
  {
   "cell_type": "code",
   "execution_count": 19,
   "id": "22e8501e",
   "metadata": {},
   "outputs": [
    {
     "name": "stdout",
     "output_type": "stream",
     "text": [
      "Мы потеряли:  14\n"
     ]
    }
   ],
   "source": [
    "original_prices = [-12, 3, 5, -2, 1]\n",
    "\n",
    "new_prices = original_prices[:]\n",
    "\n",
    "for i in range(len(original_prices)):\n",
    "\n",
    "    if new_prices[i] < 0:\n",
    "\n",
    "        new_prices[i] = 0\n",
    "\n",
    "print(\"Мы потеряли: \",  abs(sum(original_prices) - sum(new_prices)))"
   ]
  },
  {
   "cell_type": "markdown",
   "id": "9a845d70",
   "metadata": {},
   "source": [
    "3.2"
   ]
  },
  {
   "cell_type": "code",
   "execution_count": 30,
   "id": "bae533ba",
   "metadata": {},
   "outputs": [
    {
     "name": "stdout",
     "output_type": "stream",
     "text": [
      "[48, -10, 9, 38, 17]\n",
      "[48, -10, 9, 38, 17, 50, -5, 43]\n",
      "[48, 9, 17, -5, 46]\n",
      "[-10, 38, 50, 43, 12]\n",
      "[12, 46, 43, -5, 50, 17, 38, 9, -10, 48]\n"
     ]
    },
    {
     "data": {
      "text/plain": [
       "[12, 43, 50, 38, -10]"
      ]
     },
     "execution_count": 30,
     "metadata": {},
     "output_type": "execute_result"
    }
   ],
   "source": [
    "nums = [48, -10, 9, 38, 17, 50, -5, 43, 46, 12]\n",
    "print(nums[:5])\n",
    "print(nums[:len(nums) - 2])\n",
    "print(nums[::2])\n",
    "print(nums[1::2])\n",
    "print(nums[::-1])\n",
    "nums[::-2]\n"
   ]
  },
  {
   "cell_type": "markdown",
   "id": "89b8a50a",
   "metadata": {},
   "source": [
    "3.3"
   ]
  },
  {
   "cell_type": "code",
   "execution_count": 51,
   "id": "576b865d",
   "metadata": {},
   "outputs": [
    {
     "name": "stdout",
     "output_type": "stream",
     "text": [
      "[0, 1, 2, 3, 10] [0, 1, 2, 3, 10]\n"
     ]
    }
   ],
   "source": [
    "n = list(range(11))\n",
    "a = 4\n",
    "b = 9\n",
    "new_n = [i for i in n if a > i or i > b]\n",
    "numbers = n[:a] + n[b + 1:]\n",
    "print(numbers, new_n)\n",
    "\n"
   ]
  }
 ],
 "metadata": {
  "kernelspec": {
   "display_name": ".venv (3.13.5)",
   "language": "python",
   "name": "python3"
  },
  "language_info": {
   "codemirror_mode": {
    "name": "ipython",
    "version": 3
   },
   "file_extension": ".py",
   "mimetype": "text/x-python",
   "name": "python",
   "nbconvert_exporter": "python",
   "pygments_lexer": "ipython3",
   "version": "3.13.5"
  }
 },
 "nbformat": 4,
 "nbformat_minor": 5
}
