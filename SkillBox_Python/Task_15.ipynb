{
 "cells": [
  {
   "cell_type": "markdown",
   "id": "94a66b63",
   "metadata": {},
   "source": [
    "1.1"
   ]
  },
  {
   "cell_type": "code",
   "execution_count": null,
   "id": "2725e811",
   "metadata": {},
   "outputs": [],
   "source": [
    "# zoo = ['lion', 'kangaroo', 'elephant', 'monkey']\n",
    "# zoo.insert(zoo.index(\"lion\") + 1 , \"beer\")\n",
    "# zoo.remove(\"elephant\")\n",
    "# print(f\"Лев сидит в клетке под номером: {zoo.index(\"lion\") + 1}\\n\"\n",
    "#       f\"Обезьяна в клетке под номером: {zoo.index(\"monkey\") + 1}\")"
   ]
  },
  {
   "cell_type": "markdown",
   "id": "f75a9fd1",
   "metadata": {},
   "source": [
    "1.2"
   ]
  },
  {
   "cell_type": "code",
   "execution_count": null,
   "id": "d36cd4ee",
   "metadata": {},
   "outputs": [],
   "source": [
    "# count_employees = int(input(\"Кол-во сотрудников: \"))\n",
    "# salary_list = []"
   ]
  },
  {
   "cell_type": "code",
   "execution_count": null,
   "id": "e807cc73",
   "metadata": {},
   "outputs": [],
   "source": [
    "# for i_employ in range(count_employees):\n",
    "#     salary_list.append(int(input(f\"Введите зарплату {i_employ + 1} сотрудника:\")))"
   ]
  },
  {
   "cell_type": "code",
   "execution_count": null,
   "id": "aa1c9899",
   "metadata": {},
   "outputs": [],
   "source": [
    "# for i in salary_list:\n",
    "#     if 0 == i:\n",
    "#         salary_list.remove(0)"
   ]
  },
  {
   "cell_type": "code",
   "execution_count": null,
   "id": "b3dbbc0c",
   "metadata": {},
   "outputs": [],
   "source": [
    "# print(f\"Осталось сотрудников {len(salary_list)}\\n\"\n",
    "#       f\"Зарплаты: {salary_list}\\n\"\n",
    "#       f\" Осталось выплатить: {sum(salary_list)} руб.\")"
   ]
  },
  {
   "cell_type": "markdown",
   "id": "4985482f",
   "metadata": {},
   "source": [
    "1.3"
   ]
  },
  {
   "cell_type": "code",
   "execution_count": null,
   "id": "5fc1f7f3",
   "metadata": {},
   "outputs": [],
   "source": []
  },
  {
   "cell_type": "markdown",
   "id": "0c3ab000",
   "metadata": {},
   "source": [
    "2.1"
   ]
  },
  {
   "cell_type": "code",
   "execution_count": null,
   "id": "0e750cdc",
   "metadata": {},
   "outputs": [],
   "source": [
    "# main = [1, 0, 1, 1, 1, 1, 0, 1, 0, 1, 1, 1, 0, 1]\n",
    "\n",
    "# first_company = [0, 0, 0]\n",
    "\n",
    "# second_company = [1, 0, 0, 1, 1]\n",
    "\n",
    "# third_company = [1, 1, 1, 0, 1]\n",
    "\n",
    "# main.extend(first_company)\n",
    "# main.extend(second_company)\n",
    "# main.extend(third_company)\n",
    "\n",
    "# print(main)\n",
    "# main.count(0)"
   ]
  },
  {
   "cell_type": "markdown",
   "id": "7c72faa6",
   "metadata": {},
   "source": [
    "2.2"
   ]
  },
  {
   "cell_type": "code",
   "execution_count": null,
   "id": "2c56bbad",
   "metadata": {},
   "outputs": [],
   "source": [
    "one_message = input(\"Первое сообщение: \")\n",
    "second_message = input(\"Второе сообщение: \")\n",
    "\n",
    "sum_one_message = one_message.count(\"!\") + one_message.count(\"?\")\n",
    "sum_second_message = second_message.count(\"!\") + second_message.count(\"?\")\n",
    "\n",
    "if sum_one_message < sum_second_message:\n",
    "    one_message, second_message = second_message, one_message\n",
    "    print(one_message, second_message)\n",
    "else:\n",
    "    print(\"ОЙ\")"
   ]
  },
  {
   "cell_type": "markdown",
   "id": "6ac8a101",
   "metadata": {},
   "source": [
    "2.3"
   ]
  },
  {
   "cell_type": "code",
   "execution_count": null,
   "id": "4524ba58",
   "metadata": {},
   "outputs": [],
   "source": []
  },
  {
   "cell_type": "markdown",
   "id": "c78be5ca",
   "metadata": {},
   "source": [
    "3.1"
   ]
  },
  {
   "cell_type": "code",
   "execution_count": null,
   "id": "c410224e",
   "metadata": {},
   "outputs": [],
   "source": [
    "matrix = [[1, 2 ,3], [4, 5, 6], [7, 8, 9]]\n",
    "for index in matrix:\n",
    "    for num in index:\n",
    "        print(num, end = '\\t')\n",
    "    print()"
   ]
  },
  {
   "cell_type": "markdown",
   "id": "741213fb",
   "metadata": {},
   "source": [
    "3.2"
   ]
  },
  {
   "cell_type": "code",
   "execution_count": null,
   "id": "79b64a32",
   "metadata": {},
   "outputs": [],
   "source": [
    "input_count = int(input(\"Введите кол-во участников: \"))\n",
    "count_command = int(input(\"Введите кол-во человек в команде: \"))\n",
    "\n",
    "command = []\n",
    "num_participant = 1\n",
    "\n",
    "for com in range(input_count // count_command):\n",
    "    command.append(list(range(num_participant, num_participant + count_command)))\n",
    "    num_participant += count_command\n",
    "    \n",
    "command"
   ]
  },
  {
   "cell_type": "markdown",
   "id": "d771ddb5",
   "metadata": {},
   "source": [
    "3.3"
   ]
  },
  {
   "cell_type": "code",
   "execution_count": null,
   "id": "d8d61944",
   "metadata": {},
   "outputs": [
    {
     "name": "stdout",
     "output_type": "stream",
     "text": [
      "новый ассортимент\n",
      "[['яблоки', 50], ['апельсины', 190], ['груши', 100], ['нектарины', 200], ['бананы', 77], ['banana', 100]]\n",
      "новый ассортимент\n",
      "[['яблоки', 55.00000000000001], ['апельсины', 209.00000000000003], ['груши', 110.00000000000001], ['нектарины', 220.00000000000003], ['бананы', 84.7], ['banana', 110.00000000000001]]"
     ]
    }
   ],
   "source": [
    "goods = [[\"яблоки\", 50], [\"апельсины\", 190], [\"груши\", 100], [\"нектарины\", 200], [\"бананы\", 77]]\n",
    "\n",
    "goods.append([input(\"Введите новый фрукт\"), int(input(\"Введите цену\")) ])\n",
    "\n",
    "print(f\"новый ассортимент\\n{goods}\\n\", end =\"\")\n",
    "\n",
    "for fruti in goods:\n",
    "    fruti[1] = round(fruti[1] * 1.1, 2)\n",
    "\n",
    "print(f\"новый ассортимент\\n{goods}\", end =\"\")"
   ]
  }
 ],
 "metadata": {
  "kernelspec": {
   "display_name": ".venv (3.13.5)",
   "language": "python",
   "name": "python3"
  },
  "language_info": {
   "codemirror_mode": {
    "name": "ipython",
    "version": 3
   },
   "file_extension": ".py",
   "mimetype": "text/x-python",
   "name": "python",
   "nbconvert_exporter": "python",
   "pygments_lexer": "ipython3",
   "version": "3.13.5"
  }
 },
 "nbformat": 4,
 "nbformat_minor": 5
}
