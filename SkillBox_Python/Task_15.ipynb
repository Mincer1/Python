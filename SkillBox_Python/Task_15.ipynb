{
 "cells": [
  {
   "cell_type": "markdown",
   "id": "94a66b63",
   "metadata": {},
   "source": [
    "1.1"
   ]
  },
  {
   "cell_type": "code",
   "execution_count": null,
   "id": "2725e811",
   "metadata": {},
   "outputs": [
    {
     "name": "stdout",
     "output_type": "stream",
     "text": [
      "Лев сидит в клетке под номером: 1\n",
      "Обезьяна в клетке под номером: 4\n"
     ]
    }
   ],
   "source": [
    "# zoo = ['lion', 'kangaroo', 'elephant', 'monkey']\n",
    "# zoo.insert(zoo.index(\"lion\") + 1 , \"beer\")\n",
    "# zoo.remove(\"elephant\")\n",
    "# print(f\"Лев сидит в клетке под номером: {zoo.index(\"lion\") + 1}\\n\"\n",
    "#       f\"Обезьяна в клетке под номером: {zoo.index(\"monkey\") + 1}\")"
   ]
  },
  {
   "cell_type": "markdown",
   "id": "f75a9fd1",
   "metadata": {},
   "source": [
    "1.2"
   ]
  },
  {
   "cell_type": "code",
   "execution_count": null,
   "id": "d36cd4ee",
   "metadata": {},
   "outputs": [],
   "source": [
    "# count_employees = int(input(\"Кол-во сотрудников: \"))\n",
    "# salary_list = []"
   ]
  },
  {
   "cell_type": "code",
   "execution_count": null,
   "id": "e807cc73",
   "metadata": {},
   "outputs": [],
   "source": [
    "# for i_employ in range(count_employees):\n",
    "#     salary_list.append(int(input(f\"Введите зарплату {i_employ + 1} сотрудника:\")))"
   ]
  },
  {
   "cell_type": "code",
   "execution_count": null,
   "id": "aa1c9899",
   "metadata": {},
   "outputs": [],
   "source": [
    "# for i in salary_list:\n",
    "#     if 0 == i:\n",
    "#         salary_list.remove(0)"
   ]
  },
  {
   "cell_type": "code",
   "execution_count": null,
   "id": "b3dbbc0c",
   "metadata": {},
   "outputs": [],
   "source": [
    "# print(f\"Осталось сотрудников {len(salary_list)}\\n\"\n",
    "#       f\"Зарплаты: {salary_list}\\n\"\n",
    "#       f\" Осталось выплатить: {sum(salary_list)} руб.\")"
   ]
  },
  {
   "cell_type": "markdown",
   "id": "4985482f",
   "metadata": {},
   "source": [
    "1.3"
   ]
  },
  {
   "cell_type": "code",
   "execution_count": null,
   "id": "5fc1f7f3",
   "metadata": {},
   "outputs": [],
   "source": []
  }
 ],
 "metadata": {
  "kernelspec": {
   "display_name": "Python 3",
   "language": "python",
   "name": "python3"
  },
  "language_info": {
   "codemirror_mode": {
    "name": "ipython",
    "version": 3
   },
   "file_extension": ".py",
   "mimetype": "text/x-python",
   "name": "python",
   "nbconvert_exporter": "python",
   "pygments_lexer": "ipython3",
   "version": "3.13.5"
  }
 },
 "nbformat": 4,
 "nbformat_minor": 5
}
